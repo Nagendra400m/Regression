{
  "nbformat": 4,
  "nbformat_minor": 0,
  "metadata": {
    "colab": {
      "name": "Facebook_user_data.ipynb",
      "provenance": [],
      "collapsed_sections": []
    },
    "kernelspec": {
      "name": "python3",
      "display_name": "Python 3"
    },
    "language_info": {
      "name": "python"
    }
  },
  "cells": [
    {
      "cell_type": "code",
      "metadata": {
        "id": "Xb4XjONb83EX"
      },
      "source": [
        "import pandas as pd\n",
        "import numpy as np\n",
        "import matplotlib.pyplot as plt"
      ],
      "execution_count": 1,
      "outputs": []
    },
    {
      "cell_type": "code",
      "metadata": {
        "colab": {
          "base_uri": "https://localhost:8080/",
          "height": 224
        },
        "id": "ONKb81o79lET",
        "outputId": "bb57b0e2-54c4-45c4-eaf4-d5588862126c"
      },
      "source": [
        "## Importing the data set\n",
        "data = pd.read_csv('/content/facebook user data - facebook user data.csv')\n",
        "## head of the data set (Fitst 5 rows of data set)\n",
        "data.head()"
      ],
      "execution_count": 2,
      "outputs": [
        {
          "output_type": "execute_result",
          "data": {
            "text/html": [
              "<div>\n",
              "<style scoped>\n",
              "    .dataframe tbody tr th:only-of-type {\n",
              "        vertical-align: middle;\n",
              "    }\n",
              "\n",
              "    .dataframe tbody tr th {\n",
              "        vertical-align: top;\n",
              "    }\n",
              "\n",
              "    .dataframe thead th {\n",
              "        text-align: right;\n",
              "    }\n",
              "</style>\n",
              "<table border=\"1\" class=\"dataframe\">\n",
              "  <thead>\n",
              "    <tr style=\"text-align: right;\">\n",
              "      <th></th>\n",
              "      <th>userid</th>\n",
              "      <th>age</th>\n",
              "      <th>dob_day</th>\n",
              "      <th>dob_year</th>\n",
              "      <th>dob_month</th>\n",
              "      <th>gender</th>\n",
              "      <th>tenure</th>\n",
              "      <th>friend_count</th>\n",
              "      <th>friendships_initiated</th>\n",
              "      <th>likes</th>\n",
              "      <th>likes_received</th>\n",
              "      <th>mobile_likes</th>\n",
              "      <th>mobile_likes_received</th>\n",
              "      <th>www_likes</th>\n",
              "      <th>www_likes_received</th>\n",
              "    </tr>\n",
              "  </thead>\n",
              "  <tbody>\n",
              "    <tr>\n",
              "      <th>0</th>\n",
              "      <td>2094382</td>\n",
              "      <td>14</td>\n",
              "      <td>19</td>\n",
              "      <td>1999</td>\n",
              "      <td>11</td>\n",
              "      <td>male</td>\n",
              "      <td>266.0</td>\n",
              "      <td>0</td>\n",
              "      <td>0</td>\n",
              "      <td>0</td>\n",
              "      <td>0</td>\n",
              "      <td>0</td>\n",
              "      <td>0</td>\n",
              "      <td>0</td>\n",
              "      <td>0</td>\n",
              "    </tr>\n",
              "    <tr>\n",
              "      <th>1</th>\n",
              "      <td>1192601</td>\n",
              "      <td>14</td>\n",
              "      <td>2</td>\n",
              "      <td>1999</td>\n",
              "      <td>11</td>\n",
              "      <td>female</td>\n",
              "      <td>6.0</td>\n",
              "      <td>0</td>\n",
              "      <td>0</td>\n",
              "      <td>0</td>\n",
              "      <td>0</td>\n",
              "      <td>0</td>\n",
              "      <td>0</td>\n",
              "      <td>0</td>\n",
              "      <td>0</td>\n",
              "    </tr>\n",
              "    <tr>\n",
              "      <th>2</th>\n",
              "      <td>2083884</td>\n",
              "      <td>14</td>\n",
              "      <td>16</td>\n",
              "      <td>1999</td>\n",
              "      <td>11</td>\n",
              "      <td>male</td>\n",
              "      <td>13.0</td>\n",
              "      <td>0</td>\n",
              "      <td>0</td>\n",
              "      <td>0</td>\n",
              "      <td>0</td>\n",
              "      <td>0</td>\n",
              "      <td>0</td>\n",
              "      <td>0</td>\n",
              "      <td>0</td>\n",
              "    </tr>\n",
              "    <tr>\n",
              "      <th>3</th>\n",
              "      <td>1203168</td>\n",
              "      <td>14</td>\n",
              "      <td>25</td>\n",
              "      <td>1999</td>\n",
              "      <td>12</td>\n",
              "      <td>female</td>\n",
              "      <td>93.0</td>\n",
              "      <td>0</td>\n",
              "      <td>0</td>\n",
              "      <td>0</td>\n",
              "      <td>0</td>\n",
              "      <td>0</td>\n",
              "      <td>0</td>\n",
              "      <td>0</td>\n",
              "      <td>0</td>\n",
              "    </tr>\n",
              "    <tr>\n",
              "      <th>4</th>\n",
              "      <td>1733186</td>\n",
              "      <td>14</td>\n",
              "      <td>4</td>\n",
              "      <td>1999</td>\n",
              "      <td>12</td>\n",
              "      <td>male</td>\n",
              "      <td>82.0</td>\n",
              "      <td>0</td>\n",
              "      <td>0</td>\n",
              "      <td>0</td>\n",
              "      <td>0</td>\n",
              "      <td>0</td>\n",
              "      <td>0</td>\n",
              "      <td>0</td>\n",
              "      <td>0</td>\n",
              "    </tr>\n",
              "  </tbody>\n",
              "</table>\n",
              "</div>"
            ],
            "text/plain": [
              "    userid  age  dob_day  ...  mobile_likes_received  www_likes www_likes_received\n",
              "0  2094382   14       19  ...                      0          0                  0\n",
              "1  1192601   14        2  ...                      0          0                  0\n",
              "2  2083884   14       16  ...                      0          0                  0\n",
              "3  1203168   14       25  ...                      0          0                  0\n",
              "4  1733186   14        4  ...                      0          0                  0\n",
              "\n",
              "[5 rows x 15 columns]"
            ]
          },
          "metadata": {
            "tags": []
          },
          "execution_count": 2
        }
      ]
    },
    {
      "cell_type": "code",
      "metadata": {
        "colab": {
          "base_uri": "https://localhost:8080/"
        },
        "id": "XpGReq29-Ybp",
        "outputId": "30524ce0-d0d2-4e10-9bc9-037285fc9714"
      },
      "source": [
        "##Information about data set variables \n",
        "data.info()"
      ],
      "execution_count": 3,
      "outputs": [
        {
          "output_type": "stream",
          "text": [
            "<class 'pandas.core.frame.DataFrame'>\n",
            "RangeIndex: 99003 entries, 0 to 99002\n",
            "Data columns (total 15 columns):\n",
            " #   Column                 Non-Null Count  Dtype  \n",
            "---  ------                 --------------  -----  \n",
            " 0   userid                 99003 non-null  int64  \n",
            " 1   age                    99003 non-null  int64  \n",
            " 2   dob_day                99003 non-null  int64  \n",
            " 3   dob_year               99003 non-null  int64  \n",
            " 4   dob_month              99003 non-null  int64  \n",
            " 5   gender                 98828 non-null  object \n",
            " 6   tenure                 99001 non-null  float64\n",
            " 7   friend_count           99003 non-null  int64  \n",
            " 8   friendships_initiated  99003 non-null  int64  \n",
            " 9   likes                  99003 non-null  int64  \n",
            " 10  likes_received         99003 non-null  int64  \n",
            " 11  mobile_likes           99003 non-null  int64  \n",
            " 12  mobile_likes_received  99003 non-null  int64  \n",
            " 13  www_likes              99003 non-null  int64  \n",
            " 14  www_likes_received     99003 non-null  int64  \n",
            "dtypes: float64(1), int64(13), object(1)\n",
            "memory usage: 11.3+ MB\n"
          ],
          "name": "stdout"
        }
      ]
    },
    {
      "cell_type": "code",
      "metadata": {
        "colab": {
          "base_uri": "https://localhost:8080/"
        },
        "id": "QTax7_g3_F7F",
        "outputId": "d65f154a-e669-4715-9d0d-b191b54204be"
      },
      "source": [
        "## Finding the no. of Null values in each variable \n",
        "data.isnull().sum()"
      ],
      "execution_count": 4,
      "outputs": [
        {
          "output_type": "execute_result",
          "data": {
            "text/plain": [
              "userid                     0\n",
              "age                        0\n",
              "dob_day                    0\n",
              "dob_year                   0\n",
              "dob_month                  0\n",
              "gender                   175\n",
              "tenure                     2\n",
              "friend_count               0\n",
              "friendships_initiated      0\n",
              "likes                      0\n",
              "likes_received             0\n",
              "mobile_likes               0\n",
              "mobile_likes_received      0\n",
              "www_likes                  0\n",
              "www_likes_received         0\n",
              "dtype: int64"
            ]
          },
          "metadata": {
            "tags": []
          },
          "execution_count": 4
        }
      ]
    },
    {
      "cell_type": "code",
      "metadata": {
        "colab": {
          "base_uri": "https://localhost:8080/",
          "height": 317
        },
        "id": "REgEwCCgINCW",
        "outputId": "62b458e2-345e-4d77-e0cc-51eed4e974c8"
      },
      "source": [
        "### Describing the data set \n",
        "data.describe()"
      ],
      "execution_count": 5,
      "outputs": [
        {
          "output_type": "execute_result",
          "data": {
            "text/html": [
              "<div>\n",
              "<style scoped>\n",
              "    .dataframe tbody tr th:only-of-type {\n",
              "        vertical-align: middle;\n",
              "    }\n",
              "\n",
              "    .dataframe tbody tr th {\n",
              "        vertical-align: top;\n",
              "    }\n",
              "\n",
              "    .dataframe thead th {\n",
              "        text-align: right;\n",
              "    }\n",
              "</style>\n",
              "<table border=\"1\" class=\"dataframe\">\n",
              "  <thead>\n",
              "    <tr style=\"text-align: right;\">\n",
              "      <th></th>\n",
              "      <th>userid</th>\n",
              "      <th>age</th>\n",
              "      <th>dob_day</th>\n",
              "      <th>dob_year</th>\n",
              "      <th>dob_month</th>\n",
              "      <th>tenure</th>\n",
              "      <th>friend_count</th>\n",
              "      <th>friendships_initiated</th>\n",
              "      <th>likes</th>\n",
              "      <th>likes_received</th>\n",
              "      <th>mobile_likes</th>\n",
              "      <th>mobile_likes_received</th>\n",
              "      <th>www_likes</th>\n",
              "      <th>www_likes_received</th>\n",
              "    </tr>\n",
              "  </thead>\n",
              "  <tbody>\n",
              "    <tr>\n",
              "      <th>count</th>\n",
              "      <td>9.900300e+04</td>\n",
              "      <td>99003.000000</td>\n",
              "      <td>99003.000000</td>\n",
              "      <td>99003.000000</td>\n",
              "      <td>99003.000000</td>\n",
              "      <td>99001.000000</td>\n",
              "      <td>99003.000000</td>\n",
              "      <td>99003.000000</td>\n",
              "      <td>99003.000000</td>\n",
              "      <td>99003.000000</td>\n",
              "      <td>99003.000000</td>\n",
              "      <td>99003.000000</td>\n",
              "      <td>99003.000000</td>\n",
              "      <td>99003.000000</td>\n",
              "    </tr>\n",
              "    <tr>\n",
              "      <th>mean</th>\n",
              "      <td>1.597045e+06</td>\n",
              "      <td>37.280224</td>\n",
              "      <td>14.530408</td>\n",
              "      <td>1975.719776</td>\n",
              "      <td>6.283365</td>\n",
              "      <td>537.887375</td>\n",
              "      <td>196.350787</td>\n",
              "      <td>107.452471</td>\n",
              "      <td>156.078785</td>\n",
              "      <td>142.689363</td>\n",
              "      <td>106.116300</td>\n",
              "      <td>84.120491</td>\n",
              "      <td>49.962425</td>\n",
              "      <td>58.568831</td>\n",
              "    </tr>\n",
              "    <tr>\n",
              "      <th>std</th>\n",
              "      <td>3.440592e+05</td>\n",
              "      <td>22.589748</td>\n",
              "      <td>9.015606</td>\n",
              "      <td>22.589748</td>\n",
              "      <td>3.529672</td>\n",
              "      <td>457.649874</td>\n",
              "      <td>387.304229</td>\n",
              "      <td>188.786951</td>\n",
              "      <td>572.280681</td>\n",
              "      <td>1387.919613</td>\n",
              "      <td>445.252985</td>\n",
              "      <td>839.889444</td>\n",
              "      <td>285.560152</td>\n",
              "      <td>601.416348</td>\n",
              "    </tr>\n",
              "    <tr>\n",
              "      <th>min</th>\n",
              "      <td>1.000008e+06</td>\n",
              "      <td>13.000000</td>\n",
              "      <td>1.000000</td>\n",
              "      <td>1900.000000</td>\n",
              "      <td>1.000000</td>\n",
              "      <td>0.000000</td>\n",
              "      <td>0.000000</td>\n",
              "      <td>0.000000</td>\n",
              "      <td>0.000000</td>\n",
              "      <td>0.000000</td>\n",
              "      <td>0.000000</td>\n",
              "      <td>0.000000</td>\n",
              "      <td>0.000000</td>\n",
              "      <td>0.000000</td>\n",
              "    </tr>\n",
              "    <tr>\n",
              "      <th>25%</th>\n",
              "      <td>1.298806e+06</td>\n",
              "      <td>20.000000</td>\n",
              "      <td>7.000000</td>\n",
              "      <td>1963.000000</td>\n",
              "      <td>3.000000</td>\n",
              "      <td>226.000000</td>\n",
              "      <td>31.000000</td>\n",
              "      <td>17.000000</td>\n",
              "      <td>1.000000</td>\n",
              "      <td>1.000000</td>\n",
              "      <td>0.000000</td>\n",
              "      <td>0.000000</td>\n",
              "      <td>0.000000</td>\n",
              "      <td>0.000000</td>\n",
              "    </tr>\n",
              "    <tr>\n",
              "      <th>50%</th>\n",
              "      <td>1.596148e+06</td>\n",
              "      <td>28.000000</td>\n",
              "      <td>14.000000</td>\n",
              "      <td>1985.000000</td>\n",
              "      <td>6.000000</td>\n",
              "      <td>412.000000</td>\n",
              "      <td>82.000000</td>\n",
              "      <td>46.000000</td>\n",
              "      <td>11.000000</td>\n",
              "      <td>8.000000</td>\n",
              "      <td>4.000000</td>\n",
              "      <td>4.000000</td>\n",
              "      <td>0.000000</td>\n",
              "      <td>2.000000</td>\n",
              "    </tr>\n",
              "    <tr>\n",
              "      <th>75%</th>\n",
              "      <td>1.895744e+06</td>\n",
              "      <td>50.000000</td>\n",
              "      <td>22.000000</td>\n",
              "      <td>1993.000000</td>\n",
              "      <td>9.000000</td>\n",
              "      <td>675.000000</td>\n",
              "      <td>206.000000</td>\n",
              "      <td>117.000000</td>\n",
              "      <td>81.000000</td>\n",
              "      <td>59.000000</td>\n",
              "      <td>46.000000</td>\n",
              "      <td>33.000000</td>\n",
              "      <td>7.000000</td>\n",
              "      <td>20.000000</td>\n",
              "    </tr>\n",
              "    <tr>\n",
              "      <th>max</th>\n",
              "      <td>2.193542e+06</td>\n",
              "      <td>113.000000</td>\n",
              "      <td>31.000000</td>\n",
              "      <td>2000.000000</td>\n",
              "      <td>12.000000</td>\n",
              "      <td>3139.000000</td>\n",
              "      <td>4923.000000</td>\n",
              "      <td>4144.000000</td>\n",
              "      <td>25111.000000</td>\n",
              "      <td>261197.000000</td>\n",
              "      <td>25111.000000</td>\n",
              "      <td>138561.000000</td>\n",
              "      <td>14865.000000</td>\n",
              "      <td>129953.000000</td>\n",
              "    </tr>\n",
              "  </tbody>\n",
              "</table>\n",
              "</div>"
            ],
            "text/plain": [
              "             userid           age  ...     www_likes  www_likes_received\n",
              "count  9.900300e+04  99003.000000  ...  99003.000000        99003.000000\n",
              "mean   1.597045e+06     37.280224  ...     49.962425           58.568831\n",
              "std    3.440592e+05     22.589748  ...    285.560152          601.416348\n",
              "min    1.000008e+06     13.000000  ...      0.000000            0.000000\n",
              "25%    1.298806e+06     20.000000  ...      0.000000            0.000000\n",
              "50%    1.596148e+06     28.000000  ...      0.000000            2.000000\n",
              "75%    1.895744e+06     50.000000  ...      7.000000           20.000000\n",
              "max    2.193542e+06    113.000000  ...  14865.000000       129953.000000\n",
              "\n",
              "[8 rows x 14 columns]"
            ]
          },
          "metadata": {
            "tags": []
          },
          "execution_count": 5
        }
      ]
    },
    {
      "cell_type": "code",
      "metadata": {
        "colab": {
          "base_uri": "https://localhost:8080/"
        },
        "id": "R5J9tA8nEq3b",
        "outputId": "8d8b48d5-fea2-4cae-a82b-75c8744d10e5"
      },
      "source": [
        "##To finding the max users in gender \n",
        "print(data['gender'].value_counts()['male'])\n",
        "print(data['gender'].value_counts()['female'])\n"
      ],
      "execution_count": 6,
      "outputs": [
        {
          "output_type": "stream",
          "text": [
            "58574\n",
            "40254\n"
          ],
          "name": "stdout"
        }
      ]
    },
    {
      "cell_type": "markdown",
      "metadata": {
        "id": "iA-d3NkSeNRX"
      },
      "source": [
        "## It's clearly shows that most repeated gender in our data set is Male, so we can consider \"male\" is the mode "
      ]
    },
    {
      "cell_type": "code",
      "metadata": {
        "id": "-vZTIzTAHiuW"
      },
      "source": [
        "##Replace the null values (NA) of gender column with its mode\n",
        "data['gender'].fillna('male', inplace = True)"
      ],
      "execution_count": 7,
      "outputs": []
    },
    {
      "cell_type": "code",
      "metadata": {
        "colab": {
          "base_uri": "https://localhost:8080/"
        },
        "id": "qKd6Lt9hHxwW",
        "outputId": "24262ead-d8fe-4eec-a1d3-5e1c3ee5b804"
      },
      "source": [
        "data.isnull().sum()"
      ],
      "execution_count": null,
      "outputs": [
        {
          "output_type": "execute_result",
          "data": {
            "text/plain": [
              "userid                   0\n",
              "age                      0\n",
              "dob_day                  0\n",
              "dob_year                 0\n",
              "dob_month                0\n",
              "gender                   0\n",
              "tenure                   2\n",
              "friend_count             0\n",
              "friendships_initiated    0\n",
              "likes                    0\n",
              "likes_received           0\n",
              "mobile_likes             0\n",
              "mobile_likes_received    0\n",
              "www_likes                0\n",
              "www_likes_received       0\n",
              "dtype: int64"
            ]
          },
          "metadata": {
            "tags": []
          },
          "execution_count": 7
        }
      ]
    },
    {
      "cell_type": "code",
      "metadata": {
        "id": "f99TRHEDIzq6"
      },
      "source": [
        "##Replacing null values in \"tunure\" by its median\n",
        "data['tenure'].fillna(value=data['tenure'].median(), inplace=True)"
      ],
      "execution_count": 8,
      "outputs": []
    },
    {
      "cell_type": "code",
      "metadata": {
        "colab": {
          "base_uri": "https://localhost:8080/"
        },
        "id": "cEdh2RGVJI9j",
        "outputId": "510704b4-0ef3-44f6-d066-2b6bde689d95"
      },
      "source": [
        "data.isnull().sum()"
      ],
      "execution_count": 9,
      "outputs": [
        {
          "output_type": "execute_result",
          "data": {
            "text/plain": [
              "userid                   0\n",
              "age                      0\n",
              "dob_day                  0\n",
              "dob_year                 0\n",
              "dob_month                0\n",
              "gender                   0\n",
              "tenure                   0\n",
              "friend_count             0\n",
              "friendships_initiated    0\n",
              "likes                    0\n",
              "likes_received           0\n",
              "mobile_likes             0\n",
              "mobile_likes_received    0\n",
              "www_likes                0\n",
              "www_likes_received       0\n",
              "dtype: int64"
            ]
          },
          "metadata": {
            "tags": []
          },
          "execution_count": 9
        }
      ]
    },
    {
      "cell_type": "markdown",
      "metadata": {
        "id": "Rz4IvFkiuVL7"
      },
      "source": [
        "## Now all the missings values of gender and tunure are replaced. There is no missing values in oue data set"
      ]
    },
    {
      "cell_type": "code",
      "metadata": {
        "colab": {
          "base_uri": "https://localhost:8080/"
        },
        "id": "-C1IVZWALvwP",
        "outputId": "67d0ed17-08fe-4efe-e90a-668931ec6782"
      },
      "source": [
        "import seaborn as sb\n",
        "## Correlation matrix\n",
        "print(data.corr())"
      ],
      "execution_count": 10,
      "outputs": [
        {
          "output_type": "stream",
          "text": [
            "                         userid       age  ...  www_likes  www_likes_received\n",
            "userid                 1.000000 -0.007265  ...   0.001828            0.001074\n",
            "age                   -0.007265  1.000000  ...   0.015585           -0.018224\n",
            "dob_day               -0.000839  0.035035  ...   0.009353            0.002460\n",
            "dob_year               0.007265 -1.000000  ...  -0.015585            0.018224\n",
            "dob_month              0.002924  0.025167  ...   0.012136            0.006003\n",
            "tenure                -0.003449  0.462696  ...   0.070757            0.030553\n",
            "friend_count          -0.001314 -0.027407  ...   0.229803            0.220727\n",
            "friendships_initiated -0.001591 -0.058059  ...   0.214022            0.161439\n",
            "likes                 -0.002875 -0.013009  ...   0.644960            0.295687\n",
            "likes_received         0.001526 -0.022570  ...   0.255365            0.947990\n",
            "mobile_likes          -0.004868 -0.026715  ...   0.187619            0.190173\n",
            "mobile_likes_received  0.001753 -0.024248  ...   0.209997            0.850490\n",
            "www_likes              0.001828  0.015585  ...   1.000000            0.296053\n",
            "www_likes_received     0.001074 -0.018224  ...   0.296053            1.000000\n",
            "\n",
            "[14 rows x 14 columns]\n"
          ],
          "name": "stdout"
        }
      ]
    },
    {
      "cell_type": "code",
      "metadata": {
        "colab": {
          "base_uri": "https://localhost:8080/",
          "height": 803
        },
        "id": "TcvbgqAbMCCD",
        "outputId": "4c54118b-89c5-4d92-a7fb-c0cac000461f"
      },
      "source": [
        "## Heatmap to represent correlation between variables \n",
        "plt.subplots(figsize=(16,12))\n",
        "dataplot = sb.heatmap(data.corr(), cmap=\"YlGnBu\", annot=True, linewidths=0.3,annot_kws={'size': 10})\n",
        "plt.show()"
      ],
      "execution_count": 11,
      "outputs": [
        {
          "output_type": "display_data",
          "data": {
            "image/png": "[encoded data removed]",
            "text/plain": [
              "<Figure size 1152x864 with 2 Axes>"
            ]
          },
          "metadata": {
            "tags": [],
            "needs_background": "light"
          }
        }
      ]
    },
    {
      "cell_type": "code",
      "metadata": {
        "colab": {
          "base_uri": "https://localhost:8080/"
        },
        "id": "AXb0ldXMYS-m",
        "outputId": "1c371637-a97c-4ede-e286-87a6dc26ffd5"
      },
      "source": [
        "##Finding composition of male and female users\n",
        "print((data['gender'].value_counts()['male'])/(len(data['gender']))*100)\n",
        "print((data['gender'].value_counts()['female'])/(len(data['gender']))*100)"
      ],
      "execution_count": null,
      "outputs": [
        {
          "output_type": "stream",
          "text": [
            "59.340626041635105\n",
            "40.659373958364895\n"
          ],
          "name": "stdout"
        }
      ]
    },
    {
      "cell_type": "code",
      "metadata": {
        "colab": {
          "base_uri": "https://localhost:8080/"
        },
        "id": "DHvll2jiicP6",
        "outputId": "0e9d4fe4-1fce-477d-9d36-6d394a28a6f0"
      },
      "source": [
        "##Finding which category of gender has more friends\n",
        "a = data.groupby('gender')['friend_count'].sum()\n",
        "print(a)"
      ],
      "execution_count": null,
      "outputs": [
        {
          "output_type": "stream",
          "text": [
            "gender\n",
            "female    9740258\n",
            "male      9699059\n",
            "Name: friend_count, dtype: int64\n"
          ],
          "name": "stdout"
        }
      ]
    },
    {
      "cell_type": "code",
      "metadata": {
        "colab": {
          "base_uri": "https://localhost:8080/"
        },
        "id": "xVM8YOv9jNVC",
        "outputId": "1130bcbc-a66e-412f-d877-11e4b39be585"
      },
      "source": [
        "##Finding which category of gender initiated more friendships\n",
        "b = data.groupby('gender')['friendships_initiated'].sum()\n",
        "print(b)"
      ],
      "execution_count": null,
      "outputs": [
        {
          "output_type": "stream",
          "text": [
            "gender\n",
            "female    4584894\n",
            "male      6053223\n",
            "Name: friendships_initiated, dtype: int64\n"
          ],
          "name": "stdout"
        }
      ]
    },
    {
      "cell_type": "code",
      "metadata": {
        "colab": {
          "base_uri": "https://localhost:8080/",
          "height": 350
        },
        "id": "_HJVGVY5Q7Lk",
        "outputId": "6c6c8af7-01cf-4d2c-c210-cb0a9ac20348"
      },
      "source": [
        "sb.distplot(data['tenure'], kde = False, color ='red', bins = 40)"
      ],
      "execution_count": 36,
      "outputs": [
        {
          "output_type": "stream",
          "text": [
            "/usr/local/lib/python3.7/dist-packages/seaborn/distributions.py:2557: FutureWarning: `distplot` is a deprecated function and will be removed in a future version. Please adapt your code to use either `displot` (a figure-level function with similar flexibility) or `histplot` (an axes-level function for histograms).\n",
            "  warnings.warn(msg, FutureWarning)\n"
          ],
          "name": "stderr"
        },
        {
          "output_type": "execute_result",
          "data": {
            "text/plain": [
              "<matplotlib.axes._subplots.AxesSubplot at 0x7f51eefdf310>"
            ]
          },
          "metadata": {
            "tags": []
          },
          "execution_count": 36
        },
        {
          "output_type": "display_data",
          "data": {
            "image/png": "[encoded data removed]",
            "text/plain": [
              "<Figure size 432x288 with 1 Axes>"
            ]
          },
          "metadata": {
            "tags": [],
            "needs_background": "light"
          }
        }
      ]
    },
    {
      "cell_type": "code",
      "metadata": {
        "colab": {
          "base_uri": "https://localhost:8080/",
          "height": 386
        },
        "id": "DHbxMSA6SN5J",
        "outputId": "6954f7df-4808-4f70-b357-37804411426c"
      },
      "source": [
        "data=data[['gender', 'tenure']]\n",
        "sb.displot(data, y=\"tenure\",x=\"gender\", color='red',bins=50)"
      ],
      "execution_count": 34,
      "outputs": [
        {
          "output_type": "execute_result",
          "data": {
            "text/plain": [
              "<seaborn.axisgrid.FacetGrid at 0x7f51ef0c0d10>"
            ]
          },
          "metadata": {
            "tags": []
          },
          "execution_count": 34
        },
        {
          "output_type": "display_data",
          "data": {
            "image/png": "[encoded data removed]",
            "text/plain": [
              "<Figure size 360x360 with 1 Axes>"
            ]
          },
          "metadata": {
            "tags": [],
            "needs_background": "light"
          }
        }
      ]
    },
    {
      "cell_type": "code",
      "metadata": {
        "id": "qGvvTH86IqCr",
        "colab": {
          "base_uri": "https://localhost:8080/"
        },
        "outputId": "34730b81-ca8b-4a2a-f5ee-4f81e5ac84f1"
      },
      "source": [
        "## finding how many users have no friends\n",
        "no_frndz_list=data[data['friend_count']==0]['userid'].count()\n",
        "print(no_frndz_list)"
      ],
      "execution_count": 17,
      "outputs": [
        {
          "output_type": "stream",
          "text": [
            "1962\n"
          ],
          "name": "stdout"
        }
      ]
    },
    {
      "cell_type": "code",
      "metadata": {
        "colab": {
          "base_uri": "https://localhost:8080/"
        },
        "id": "2uQIH9UfMw3O",
        "outputId": "8906fdc1-7569-4b2e-d59b-b0c93b20aa77"
      },
      "source": [
        "##Finding how many users did not like any posts\n",
        "no_likes_users=data[data['likes']==0]['userid'].count()\n",
        "print(no_likes_users)"
      ],
      "execution_count": 18,
      "outputs": [
        {
          "output_type": "stream",
          "text": [
            "22308\n"
          ],
          "name": "stdout"
        }
      ]
    },
    {
      "cell_type": "code",
      "metadata": {
        "colab": {
          "base_uri": "https://localhost:8080/"
        },
        "id": "Hsr4xe5rNRp9",
        "outputId": "8bd5cb40-297a-4b89-8c7a-f9c7337e505d"
      },
      "source": [
        "##Finding how many users did not receive any likes\n",
        "no_likes_received_users=data[data['likes_received']==0]['userid'].count()\n",
        "print(no_likes_received_users)"
      ],
      "execution_count": 19,
      "outputs": [
        {
          "output_type": "stream",
          "text": [
            "24428\n"
          ],
          "name": "stdout"
        }
      ]
    },
    {
      "cell_type": "code",
      "metadata": {
        "colab": {
          "base_uri": "https://localhost:8080/",
          "height": 196
        },
        "id": "NHjUK44EO_rp",
        "outputId": "4a1b8d59-4735-4885-e06b-03f480ace0cb"
      },
      "source": [
        "##Finding the average number of posts liked by users (based on gender) through web vs. Mobile devices\n",
        "data.groupby(by='gender')['mobile_likes', 'www_likes'].mean()"
      ],
      "execution_count": 21,
      "outputs": [
        {
          "output_type": "stream",
          "text": [
            "/usr/local/lib/python3.7/dist-packages/ipykernel_launcher.py:1: FutureWarning: Indexing with multiple keys (implicitly converted to a tuple of keys) will be deprecated, use a list instead.\n",
            "  \"\"\"Entry point for launching an IPython kernel.\n"
          ],
          "name": "stderr"
        },
        {
          "output_type": "execute_result",
          "data": {
            "text/html": [
              "<div>\n",
              "<style scoped>\n",
              "    .dataframe tbody tr th:only-of-type {\n",
              "        vertical-align: middle;\n",
              "    }\n",
              "\n",
              "    .dataframe tbody tr th {\n",
              "        vertical-align: top;\n",
              "    }\n",
              "\n",
              "    .dataframe thead th {\n",
              "        text-align: right;\n",
              "    }\n",
              "</style>\n",
              "<table border=\"1\" class=\"dataframe\">\n",
              "  <thead>\n",
              "    <tr style=\"text-align: right;\">\n",
              "      <th></th>\n",
              "      <th>mobile_likes</th>\n",
              "      <th>www_likes</th>\n",
              "    </tr>\n",
              "    <tr>\n",
              "      <th>gender</th>\n",
              "      <th></th>\n",
              "      <th></th>\n",
              "    </tr>\n",
              "  </thead>\n",
              "  <tbody>\n",
              "    <tr>\n",
              "      <th>female</th>\n",
              "      <td>172.912928</td>\n",
              "      <td>87.138297</td>\n",
              "    </tr>\n",
              "    <tr>\n",
              "      <th>male</th>\n",
              "      <td>60.348176</td>\n",
              "      <td>24.490034</td>\n",
              "    </tr>\n",
              "  </tbody>\n",
              "</table>\n",
              "</div>"
            ],
            "text/plain": [
              "        mobile_likes  www_likes\n",
              "gender                         \n",
              "female    172.912928  87.138297\n",
              "male       60.348176  24.490034"
            ]
          },
          "metadata": {
            "tags": []
          },
          "execution_count": 21
        }
      ]
    },
    {
      "cell_type": "code",
      "metadata": {
        "colab": {
          "base_uri": "https://localhost:8080/",
          "height": 196
        },
        "id": "XA_UTtKtQGTU",
        "outputId": "0f5d4958-05ad-43e2-c004-cbb23e98150c"
      },
      "source": [
        "##Finding the average number of likes received by users (based on gender) through web vs. mobile devices?\n",
        "data.groupby(by='gender')['mobile_likes_received', 'www_likes_received'].mean()"
      ],
      "execution_count": 22,
      "outputs": [
        {
          "output_type": "stream",
          "text": [
            "/usr/local/lib/python3.7/dist-packages/ipykernel_launcher.py:1: FutureWarning: Indexing with multiple keys (implicitly converted to a tuple of keys) will be deprecated, use a list instead.\n",
            "  \"\"\"Entry point for launching an IPython kernel.\n"
          ],
          "name": "stderr"
        },
        {
          "output_type": "execute_result",
          "data": {
            "text/html": [
              "<div>\n",
              "<style scoped>\n",
              "    .dataframe tbody tr th:only-of-type {\n",
              "        vertical-align: middle;\n",
              "    }\n",
              "\n",
              "    .dataframe tbody tr th {\n",
              "        vertical-align: top;\n",
              "    }\n",
              "\n",
              "    .dataframe thead th {\n",
              "        text-align: right;\n",
              "    }\n",
              "</style>\n",
              "<table border=\"1\" class=\"dataframe\">\n",
              "  <thead>\n",
              "    <tr style=\"text-align: right;\">\n",
              "      <th></th>\n",
              "      <th>mobile_likes_received</th>\n",
              "      <th>www_likes_received</th>\n",
              "    </tr>\n",
              "    <tr>\n",
              "      <th>gender</th>\n",
              "      <th></th>\n",
              "      <th></th>\n",
              "    </tr>\n",
              "  </thead>\n",
              "  <tbody>\n",
              "    <tr>\n",
              "      <th>female</th>\n",
              "      <td>147.100884</td>\n",
              "      <td>104.334451</td>\n",
              "    </tr>\n",
              "    <tr>\n",
              "      <th>male</th>\n",
              "      <td>40.967199</td>\n",
              "      <td>27.210863</td>\n",
              "    </tr>\n",
              "  </tbody>\n",
              "</table>\n",
              "</div>"
            ],
            "text/plain": [
              "        mobile_likes_received  www_likes_received\n",
              "gender                                           \n",
              "female             147.100884          104.334451\n",
              "male                40.967199           27.210863"
            ]
          },
          "metadata": {
            "tags": []
          },
          "execution_count": 22
        }
      ]
    }
  ]
}